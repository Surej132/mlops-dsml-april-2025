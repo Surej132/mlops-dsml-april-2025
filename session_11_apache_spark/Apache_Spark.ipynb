{
  "nbformat": 4,
  "nbformat_minor": 0,
  "metadata": {
    "colab": {
      "provenance": []
    },
    "kernelspec": {
      "name": "python3",
      "display_name": "Python 3"
    },
    "language_info": {
      "name": "python"
    }
  },
  "cells": [
    {
      "cell_type": "markdown",
      "source": [
        "# Inverted Indexing"
      ],
      "metadata": {
        "id": "k-c84q750BSo"
      }
    },
    {
      "cell_type": "code",
      "execution_count": 1,
      "metadata": {
        "colab": {
          "base_uri": "https://localhost:8080/"
        },
        "id": "_sSEPE5bpksh",
        "outputId": "24919f0c-1957-498b-fb3e-9d07719a6777"
      },
      "outputs": [
        {
          "output_type": "stream",
          "name": "stdout",
          "text": [
            "▶️ Documents:\n",
            "   doc_id                               content\n",
            "0       1                   the quick brown fox\n",
            "1       2               jumps over the lazy dog\n",
            "2       3  never jump over the lazy dog quickly\n",
            "3       4            bright sun in the blue sky\n",
            "4       5           the fox is quick and clever\n",
            "5       6              big data means big power\n",
            "6       7     data science and machine learning\n",
            "7       8               machine learning is fun\n",
            "8       9             fun with pandas and numpy\n",
            "9      10            numpy and pandas are great\n"
          ]
        }
      ],
      "source": [
        "import pandas as pd\n",
        "import numpy as np\n",
        "\n",
        "# 🔹 Step 1: Create dummy data (10 small docs)\n",
        "docs = pd.DataFrame({\n",
        "    'doc_id': np.arange(1, 11),\n",
        "    'content': [\n",
        "        \"the quick brown fox\",\n",
        "        \"jumps over the lazy dog\",\n",
        "        \"never jump over the lazy dog quickly\",\n",
        "        \"bright sun in the blue sky\",\n",
        "        \"the fox is quick and clever\",\n",
        "        \"big data means big power\",\n",
        "        \"data science and machine learning\",\n",
        "        \"machine learning is fun\",\n",
        "        \"fun with pandas and numpy\",\n",
        "        \"numpy and pandas are great\"\n",
        "    ]\n",
        "})\n",
        "\n",
        "print(\"▶️ Documents:\")\n",
        "print(docs)"
      ]
    },
    {
      "cell_type": "code",
      "source": [
        "# 🔹 Step 2: Map phase - tokenize and emit (word, doc_id)\n",
        "mapped = []\n",
        "\n",
        "for _, row in docs.iterrows():\n",
        "    doc_id = row['doc_id']\n",
        "    words = row['content'].lower().split()\n",
        "    for word in words:\n",
        "        mapped.append({'word': word, 'doc_id': doc_id})\n",
        "\n",
        "mapped_df = pd.DataFrame(mapped)\n",
        "\n",
        "print(\"\\n▶️ Map Phase Output:\")\n",
        "print(mapped_df.head(20))\n"
      ],
      "metadata": {
        "colab": {
          "base_uri": "https://localhost:8080/"
        },
        "id": "8QixLACv0IEe",
        "outputId": "a4d095c0-1fc2-4416-f596-326b9f1e17d9"
      },
      "execution_count": 2,
      "outputs": [
        {
          "output_type": "stream",
          "name": "stdout",
          "text": [
            "\n",
            "▶️ Map Phase Output:\n",
            "       word  doc_id\n",
            "0       the       1\n",
            "1     quick       1\n",
            "2     brown       1\n",
            "3       fox       1\n",
            "4     jumps       2\n",
            "5      over       2\n",
            "6       the       2\n",
            "7      lazy       2\n",
            "8       dog       2\n",
            "9     never       3\n",
            "10     jump       3\n",
            "11     over       3\n",
            "12      the       3\n",
            "13     lazy       3\n",
            "14      dog       3\n",
            "15  quickly       3\n",
            "16   bright       4\n",
            "17      sun       4\n",
            "18       in       4\n",
            "19      the       4\n"
          ]
        }
      ]
    },
    {
      "cell_type": "code",
      "source": [
        "# 🔹 Step 3: Shuffle phase - group by word\n",
        "grouped = mapped_df.groupby('word')['doc_id'].apply(list).reset_index()\n",
        "\n",
        "print(\"\\n▶️ Shuffle Phase Output (partial):\")\n",
        "print(grouped.head(10))\n"
      ],
      "metadata": {
        "colab": {
          "base_uri": "https://localhost:8080/"
        },
        "id": "H98aGFfs0lHy",
        "outputId": "68bd9cbb-d980-46a5-dc21-4b5294c5a4c1"
      },
      "execution_count": 3,
      "outputs": [
        {
          "output_type": "stream",
          "name": "stdout",
          "text": [
            "\n",
            "▶️ Shuffle Phase Output (partial):\n",
            "     word         doc_id\n",
            "0     and  [5, 7, 9, 10]\n",
            "1     are           [10]\n",
            "2     big         [6, 6]\n",
            "3    blue            [4]\n",
            "4  bright            [4]\n",
            "5   brown            [1]\n",
            "6  clever            [5]\n",
            "7    data         [6, 7]\n",
            "8     dog         [2, 3]\n",
            "9     fox         [1, 5]\n"
          ]
        }
      ]
    },
    {
      "cell_type": "code",
      "source": [
        "# 🔹 Step 4: Reduce phase - unique doc IDs per word\n",
        "grouped['doc_ids'] = grouped['doc_id'].apply(lambda x: sorted(list(set(x))))\n",
        "#grouped = grouped.drop(columns=['doc_id'])\n",
        "\n",
        "print(\"\\n▶️ Final Inverted Index:\")\n",
        "print(grouped)"
      ],
      "metadata": {
        "colab": {
          "base_uri": "https://localhost:8080/"
        },
        "id": "HAQk9B8C0xhA",
        "outputId": "62cd507c-04bb-4b09-def4-ac7a62641051"
      },
      "execution_count": 4,
      "outputs": [
        {
          "output_type": "stream",
          "name": "stdout",
          "text": [
            "\n",
            "▶️ Final Inverted Index:\n",
            "        word           doc_id          doc_ids\n",
            "0        and    [5, 7, 9, 10]    [5, 7, 9, 10]\n",
            "1        are             [10]             [10]\n",
            "2        big           [6, 6]              [6]\n",
            "3       blue              [4]              [4]\n",
            "4     bright              [4]              [4]\n",
            "5      brown              [1]              [1]\n",
            "6     clever              [5]              [5]\n",
            "7       data           [6, 7]           [6, 7]\n",
            "8        dog           [2, 3]           [2, 3]\n",
            "9        fox           [1, 5]           [1, 5]\n",
            "10       fun           [8, 9]           [8, 9]\n",
            "11     great             [10]             [10]\n",
            "12        in              [4]              [4]\n",
            "13        is           [5, 8]           [5, 8]\n",
            "14      jump              [3]              [3]\n",
            "15     jumps              [2]              [2]\n",
            "16      lazy           [2, 3]           [2, 3]\n",
            "17  learning           [7, 8]           [7, 8]\n",
            "18   machine           [7, 8]           [7, 8]\n",
            "19     means              [6]              [6]\n",
            "20     never              [3]              [3]\n",
            "21     numpy          [9, 10]          [9, 10]\n",
            "22      over           [2, 3]           [2, 3]\n",
            "23    pandas          [9, 10]          [9, 10]\n",
            "24     power              [6]              [6]\n",
            "25     quick           [1, 5]           [1, 5]\n",
            "26   quickly              [3]              [3]\n",
            "27   science              [7]              [7]\n",
            "28       sky              [4]              [4]\n",
            "29       sun              [4]              [4]\n",
            "30       the  [1, 2, 3, 4, 5]  [1, 2, 3, 4, 5]\n",
            "31      with              [9]              [9]\n"
          ]
        }
      ]
    },
    {
      "cell_type": "code",
      "source": [
        "# Search query\n",
        "query = \"the dog\"\n",
        "tokens = query.lower().split()\n",
        "\n",
        "print(\"\\n🔍 Searching for:\", tokens)\n",
        "\n",
        "# Lookup inverted index\n",
        "inverted_index = dict(zip(grouped['word'], grouped['doc_id']))\n",
        "\n",
        "# Collect doc lists for each token\n",
        "doc_sets = []\n",
        "for token in tokens:\n",
        "    doc_list = inverted_index.get(token, [])\n",
        "    print(f\"Word '{token}' found in docs: {doc_list}\")\n",
        "    doc_sets.append(set(doc_list))\n",
        "\n",
        "# Intersection (AND search)\n",
        "if doc_sets:\n",
        "    relevant_docs = set.intersection(*doc_sets)\n",
        "else:\n",
        "    relevant_docs = set()\n",
        "\n",
        "print(\"\\n✅ Relevant docs (AND search):\", relevant_docs)\n",
        "\n",
        "# Show matched content\n",
        "print(\"\\n📄 Matching Documents:\")\n",
        "print(docs[docs['doc_id'].isin(relevant_docs)])"
      ],
      "metadata": {
        "colab": {
          "base_uri": "https://localhost:8080/"
        },
        "id": "SoH0s4yz0_eh",
        "outputId": "0ae4c916-b3cb-4fb9-a9e3-54963e8bf165"
      },
      "execution_count": 5,
      "outputs": [
        {
          "output_type": "stream",
          "name": "stdout",
          "text": [
            "\n",
            "🔍 Searching for: ['the', 'dog']\n",
            "Word 'the' found in docs: [1, 2, 3, 4, 5]\n",
            "Word 'dog' found in docs: [2, 3]\n",
            "\n",
            "✅ Relevant docs (AND search): {2, 3}\n",
            "\n",
            "📄 Matching Documents:\n",
            "   doc_id                               content\n",
            "1       2               jumps over the lazy dog\n",
            "2       3  never jump over the lazy dog quickly\n"
          ]
        }
      ]
    },
    {
      "cell_type": "markdown",
      "source": [
        "# Apache spark"
      ],
      "metadata": {
        "id": "ayInrgym9EIn"
      }
    },
    {
      "cell_type": "code",
      "source": [
        "!pip install pyspark py4j\n"
      ],
      "metadata": {
        "colab": {
          "base_uri": "https://localhost:8080/"
        },
        "id": "tQ2DRNqa9Px6",
        "outputId": "cd26bedc-3873-459d-d819-585689b0b358"
      },
      "execution_count": 6,
      "outputs": [
        {
          "output_type": "stream",
          "name": "stdout",
          "text": [
            "Requirement already satisfied: pyspark in /usr/local/lib/python3.11/dist-packages (3.5.1)\n",
            "Requirement already satisfied: py4j in /usr/local/lib/python3.11/dist-packages (0.10.9.7)\n"
          ]
        }
      ]
    },
    {
      "cell_type": "markdown",
      "source": [
        "<!-- #include<stdio.h> -->\n",
        "\n",
        "<!--\n",
        "public static void main args {\n",
        "\n",
        "} -->\n",
        "\n"
      ],
      "metadata": {
        "id": "sQDE-jYc9ZTS"
      }
    },
    {
      "cell_type": "code",
      "source": [
        "# Import SparkSession\n",
        "from pyspark.sql import SparkSession\n",
        "# Create a Spark Session\n",
        "spark = SparkSession.builder.master(\"local[*]\").getOrCreate()\n",
        "# Check Spark Session Information\n",
        "spark"
      ],
      "metadata": {
        "colab": {
          "base_uri": "https://localhost:8080/",
          "height": 219
        },
        "id": "HMPwORtX9VEf",
        "outputId": "40a77664-d7f1-40b9-8766-93bff45d2d65"
      },
      "execution_count": 4,
      "outputs": [
        {
          "output_type": "execute_result",
          "data": {
            "text/plain": [
              "<pyspark.sql.session.SparkSession at 0x7bbb1da0c110>"
            ],
            "text/html": [
              "\n",
              "            <div>\n",
              "                <p><b>SparkSession - in-memory</b></p>\n",
              "                \n",
              "        <div>\n",
              "            <p><b>SparkContext</b></p>\n",
              "\n",
              "            <p><a href=\"http://6b3dc554a0f7:4040\">Spark UI</a></p>\n",
              "\n",
              "            <dl>\n",
              "              <dt>Version</dt>\n",
              "                <dd><code>v3.5.1</code></dd>\n",
              "              <dt>Master</dt>\n",
              "                <dd><code>local[*]</code></dd>\n",
              "              <dt>AppName</dt>\n",
              "                <dd><code>pyspark-shell</code></dd>\n",
              "            </dl>\n",
              "        </div>\n",
              "        \n",
              "            </div>\n",
              "        "
            ]
          },
          "metadata": {},
          "execution_count": 4
        }
      ]
    },
    {
      "cell_type": "code",
      "source": [
        "!curl https://raw.githubusercontent.com/markumreed/colab_pyspark/main/WMT.csv >> WMT.csv\n"
      ],
      "metadata": {
        "colab": {
          "base_uri": "https://localhost:8080/"
        },
        "id": "nvNqIM_E9YPV",
        "outputId": "f7e6bd41-960a-4e8e-e93a-760af2512e4f"
      },
      "execution_count": 5,
      "outputs": [
        {
          "output_type": "stream",
          "name": "stdout",
          "text": [
            "  % Total    % Received % Xferd  Average Speed   Time    Time     Time  Current\n",
            "                                 Dload  Upload   Total   Spent    Left  Speed\n",
            "\r  0     0    0     0    0     0      0      0 --:--:-- --:--:-- --:--:--     0\r100 89556  100 89556    0     0   392k      0 --:--:-- --:--:-- --:--:--  393k\n"
          ]
        }
      ]
    },
    {
      "cell_type": "code",
      "source": [
        "import pandas as pd\n",
        "\n",
        "pd_df = pd.read_csv(\"WMT.csv\")\n",
        "pd_df.info()\n"
      ],
      "metadata": {
        "colab": {
          "base_uri": "https://localhost:8080/",
          "height": 512
        },
        "id": "uGIf4TOt9nMW",
        "outputId": "990da3d0-ea6e-491e-a834-685bf78bcf39"
      },
      "execution_count": 6,
      "outputs": [
        {
          "output_type": "error",
          "ename": "ParserError",
          "evalue": "Error tokenizing data. C error: Expected 7 fields in line 1260, saw 13\n",
          "traceback": [
            "\u001b[0;31m---------------------------------------------------------------------------\u001b[0m",
            "\u001b[0;31mParserError\u001b[0m                               Traceback (most recent call last)",
            "\u001b[0;32m<ipython-input-6-4a61c6057f5c>\u001b[0m in \u001b[0;36m<cell line: 0>\u001b[0;34m()\u001b[0m\n\u001b[1;32m      1\u001b[0m \u001b[0;32mimport\u001b[0m \u001b[0mpandas\u001b[0m \u001b[0;32mas\u001b[0m \u001b[0mpd\u001b[0m\u001b[0;34m\u001b[0m\u001b[0;34m\u001b[0m\u001b[0m\n\u001b[1;32m      2\u001b[0m \u001b[0;34m\u001b[0m\u001b[0m\n\u001b[0;32m----> 3\u001b[0;31m \u001b[0mpd_df\u001b[0m \u001b[0;34m=\u001b[0m \u001b[0mpd\u001b[0m\u001b[0;34m.\u001b[0m\u001b[0mread_csv\u001b[0m\u001b[0;34m(\u001b[0m\u001b[0;34m\"WMT.csv\"\u001b[0m\u001b[0;34m)\u001b[0m\u001b[0;34m\u001b[0m\u001b[0;34m\u001b[0m\u001b[0m\n\u001b[0m\u001b[1;32m      4\u001b[0m \u001b[0mpd_df\u001b[0m\u001b[0;34m.\u001b[0m\u001b[0minfo\u001b[0m\u001b[0;34m(\u001b[0m\u001b[0;34m)\u001b[0m\u001b[0;34m\u001b[0m\u001b[0;34m\u001b[0m\u001b[0m\n",
            "\u001b[0;32m/usr/local/lib/python3.11/dist-packages/pandas/io/parsers/readers.py\u001b[0m in \u001b[0;36mread_csv\u001b[0;34m(filepath_or_buffer, sep, delimiter, header, names, index_col, usecols, dtype, engine, converters, true_values, false_values, skipinitialspace, skiprows, skipfooter, nrows, na_values, keep_default_na, na_filter, verbose, skip_blank_lines, parse_dates, infer_datetime_format, keep_date_col, date_parser, date_format, dayfirst, cache_dates, iterator, chunksize, compression, thousands, decimal, lineterminator, quotechar, quoting, doublequote, escapechar, comment, encoding, encoding_errors, dialect, on_bad_lines, delim_whitespace, low_memory, memory_map, float_precision, storage_options, dtype_backend)\u001b[0m\n\u001b[1;32m   1024\u001b[0m     \u001b[0mkwds\u001b[0m\u001b[0;34m.\u001b[0m\u001b[0mupdate\u001b[0m\u001b[0;34m(\u001b[0m\u001b[0mkwds_defaults\u001b[0m\u001b[0;34m)\u001b[0m\u001b[0;34m\u001b[0m\u001b[0;34m\u001b[0m\u001b[0m\n\u001b[1;32m   1025\u001b[0m \u001b[0;34m\u001b[0m\u001b[0m\n\u001b[0;32m-> 1026\u001b[0;31m     \u001b[0;32mreturn\u001b[0m \u001b[0m_read\u001b[0m\u001b[0;34m(\u001b[0m\u001b[0mfilepath_or_buffer\u001b[0m\u001b[0;34m,\u001b[0m \u001b[0mkwds\u001b[0m\u001b[0;34m)\u001b[0m\u001b[0;34m\u001b[0m\u001b[0;34m\u001b[0m\u001b[0m\n\u001b[0m\u001b[1;32m   1027\u001b[0m \u001b[0;34m\u001b[0m\u001b[0m\n\u001b[1;32m   1028\u001b[0m \u001b[0;34m\u001b[0m\u001b[0m\n",
            "\u001b[0;32m/usr/local/lib/python3.11/dist-packages/pandas/io/parsers/readers.py\u001b[0m in \u001b[0;36m_read\u001b[0;34m(filepath_or_buffer, kwds)\u001b[0m\n\u001b[1;32m    624\u001b[0m \u001b[0;34m\u001b[0m\u001b[0m\n\u001b[1;32m    625\u001b[0m     \u001b[0;32mwith\u001b[0m \u001b[0mparser\u001b[0m\u001b[0;34m:\u001b[0m\u001b[0;34m\u001b[0m\u001b[0;34m\u001b[0m\u001b[0m\n\u001b[0;32m--> 626\u001b[0;31m         \u001b[0;32mreturn\u001b[0m \u001b[0mparser\u001b[0m\u001b[0;34m.\u001b[0m\u001b[0mread\u001b[0m\u001b[0;34m(\u001b[0m\u001b[0mnrows\u001b[0m\u001b[0;34m)\u001b[0m\u001b[0;34m\u001b[0m\u001b[0;34m\u001b[0m\u001b[0m\n\u001b[0m\u001b[1;32m    627\u001b[0m \u001b[0;34m\u001b[0m\u001b[0m\n\u001b[1;32m    628\u001b[0m \u001b[0;34m\u001b[0m\u001b[0m\n",
            "\u001b[0;32m/usr/local/lib/python3.11/dist-packages/pandas/io/parsers/readers.py\u001b[0m in \u001b[0;36mread\u001b[0;34m(self, nrows)\u001b[0m\n\u001b[1;32m   1921\u001b[0m                     \u001b[0mcolumns\u001b[0m\u001b[0;34m,\u001b[0m\u001b[0;34m\u001b[0m\u001b[0;34m\u001b[0m\u001b[0m\n\u001b[1;32m   1922\u001b[0m                     \u001b[0mcol_dict\u001b[0m\u001b[0;34m,\u001b[0m\u001b[0;34m\u001b[0m\u001b[0;34m\u001b[0m\u001b[0m\n\u001b[0;32m-> 1923\u001b[0;31m                 \u001b[0;34m)\u001b[0m \u001b[0;34m=\u001b[0m \u001b[0mself\u001b[0m\u001b[0;34m.\u001b[0m\u001b[0m_engine\u001b[0m\u001b[0;34m.\u001b[0m\u001b[0mread\u001b[0m\u001b[0;34m(\u001b[0m  \u001b[0;31m# type: ignore[attr-defined]\u001b[0m\u001b[0;34m\u001b[0m\u001b[0;34m\u001b[0m\u001b[0m\n\u001b[0m\u001b[1;32m   1924\u001b[0m                     \u001b[0mnrows\u001b[0m\u001b[0;34m\u001b[0m\u001b[0;34m\u001b[0m\u001b[0m\n\u001b[1;32m   1925\u001b[0m                 )\n",
            "\u001b[0;32m/usr/local/lib/python3.11/dist-packages/pandas/io/parsers/c_parser_wrapper.py\u001b[0m in \u001b[0;36mread\u001b[0;34m(self, nrows)\u001b[0m\n\u001b[1;32m    232\u001b[0m         \u001b[0;32mtry\u001b[0m\u001b[0;34m:\u001b[0m\u001b[0;34m\u001b[0m\u001b[0;34m\u001b[0m\u001b[0m\n\u001b[1;32m    233\u001b[0m             \u001b[0;32mif\u001b[0m \u001b[0mself\u001b[0m\u001b[0;34m.\u001b[0m\u001b[0mlow_memory\u001b[0m\u001b[0;34m:\u001b[0m\u001b[0;34m\u001b[0m\u001b[0;34m\u001b[0m\u001b[0m\n\u001b[0;32m--> 234\u001b[0;31m                 \u001b[0mchunks\u001b[0m \u001b[0;34m=\u001b[0m \u001b[0mself\u001b[0m\u001b[0;34m.\u001b[0m\u001b[0m_reader\u001b[0m\u001b[0;34m.\u001b[0m\u001b[0mread_low_memory\u001b[0m\u001b[0;34m(\u001b[0m\u001b[0mnrows\u001b[0m\u001b[0;34m)\u001b[0m\u001b[0;34m\u001b[0m\u001b[0;34m\u001b[0m\u001b[0m\n\u001b[0m\u001b[1;32m    235\u001b[0m                 \u001b[0;31m# destructive to chunks\u001b[0m\u001b[0;34m\u001b[0m\u001b[0;34m\u001b[0m\u001b[0m\n\u001b[1;32m    236\u001b[0m                 \u001b[0mdata\u001b[0m \u001b[0;34m=\u001b[0m \u001b[0m_concatenate_chunks\u001b[0m\u001b[0;34m(\u001b[0m\u001b[0mchunks\u001b[0m\u001b[0;34m)\u001b[0m\u001b[0;34m\u001b[0m\u001b[0;34m\u001b[0m\u001b[0m\n",
            "\u001b[0;32mparsers.pyx\u001b[0m in \u001b[0;36mpandas._libs.parsers.TextReader.read_low_memory\u001b[0;34m()\u001b[0m\n",
            "\u001b[0;32mparsers.pyx\u001b[0m in \u001b[0;36mpandas._libs.parsers.TextReader._read_rows\u001b[0;34m()\u001b[0m\n",
            "\u001b[0;32mparsers.pyx\u001b[0m in \u001b[0;36mpandas._libs.parsers.TextReader._tokenize_rows\u001b[0;34m()\u001b[0m\n",
            "\u001b[0;32mparsers.pyx\u001b[0m in \u001b[0;36mpandas._libs.parsers.TextReader._check_tokenize_status\u001b[0;34m()\u001b[0m\n",
            "\u001b[0;32mparsers.pyx\u001b[0m in \u001b[0;36mpandas._libs.parsers.raise_parser_error\u001b[0;34m()\u001b[0m\n",
            "\u001b[0;31mParserError\u001b[0m: Error tokenizing data. C error: Expected 7 fields in line 1260, saw 13\n"
          ]
        }
      ]
    },
    {
      "cell_type": "code",
      "source": [
        "pd_df.head()"
      ],
      "metadata": {
        "id": "01BKbjHM9txh"
      },
      "execution_count": null,
      "outputs": []
    },
    {
      "cell_type": "code",
      "source": [
        "df = spark.read.csv('WMT.csv', header=True, inferSchema=True)\n",
        "df.head(10)"
      ],
      "metadata": {
        "colab": {
          "base_uri": "https://localhost:8080/"
        },
        "id": "MMFuco-P9vTo",
        "outputId": "dbe4050b-1c08-4ec7-9d78-c61e71cccd58"
      },
      "execution_count": 7,
      "outputs": [
        {
          "output_type": "execute_result",
          "data": {
            "text/plain": [
              "[Row(Date=datetime.date(2016, 1, 20), Open=61.799999, High=62.330002, Low=60.200001, Close=60.84, Adj Close=53.990601, Volume='17369100'),\n",
              " Row(Date=datetime.date(2016, 1, 21), Open=60.98, High=62.790001, Low=60.91, Close=61.880001, Adj Close=54.913509, Volume='12089200'),\n",
              " Row(Date=datetime.date(2016, 1, 22), Open=62.439999, High=63.259998, Low=62.130001, Close=62.689999, Adj Close=55.632324, Volume='9197500'),\n",
              " Row(Date=datetime.date(2016, 1, 25), Open=62.779999, High=63.82, Low=62.549999, Close=63.450001, Adj Close=56.306763, Volume='12823400'),\n",
              " Row(Date=datetime.date(2016, 1, 26), Open=63.360001, High=64.470001, Low=63.259998, Close=64.0, Adj Close=56.794834, Volume='9441200'),\n",
              " Row(Date=datetime.date(2016, 1, 27), Open=64.099998, High=65.18, Low=63.889999, Close=63.950001, Adj Close=56.750477, Volume='10214300'),\n",
              " Row(Date=datetime.date(2016, 1, 28), Open=64.029999, High=64.510002, Low=63.43, Close=64.220001, Adj Close=56.99007, Volume='11278300'),\n",
              " Row(Date=datetime.date(2016, 1, 29), Open=64.75, High=66.529999, Low=64.739998, Close=66.360001, Adj Close=58.889149, Volume='16439100'),\n",
              " Row(Date=datetime.date(2016, 2, 1), Open=65.910004, High=67.93, Low=65.889999, Close=67.5, Adj Close=59.90081, Volume='14728400'),\n",
              " Row(Date=datetime.date(2016, 2, 2), Open=67.300003, High=67.839996, Low=66.279999, Close=66.860001, Adj Close=59.332867, Volume='13585900')]"
            ]
          },
          "metadata": {},
          "execution_count": 7
        }
      ]
    },
    {
      "cell_type": "code",
      "source": [
        "df.columns"
      ],
      "metadata": {
        "colab": {
          "base_uri": "https://localhost:8080/"
        },
        "id": "IjJ1Ai7e96nt",
        "outputId": "5be031a1-082b-48d9-f261-0887802d4c29"
      },
      "execution_count": 8,
      "outputs": [
        {
          "output_type": "execute_result",
          "data": {
            "text/plain": [
              "['Date', 'Open', 'High', 'Low', 'Close', 'Adj Close', 'Volume']"
            ]
          },
          "metadata": {},
          "execution_count": 8
        }
      ]
    },
    {
      "cell_type": "code",
      "source": [
        "df.printSchema()"
      ],
      "metadata": {
        "colab": {
          "base_uri": "https://localhost:8080/"
        },
        "id": "26T0LqQs-cCl",
        "outputId": "facd9fad-91ff-4396-8d61-642285af4d78"
      },
      "execution_count": 9,
      "outputs": [
        {
          "output_type": "stream",
          "name": "stdout",
          "text": [
            "root\n",
            " |-- Date: date (nullable = true)\n",
            " |-- Open: double (nullable = true)\n",
            " |-- High: double (nullable = true)\n",
            " |-- Low: double (nullable = true)\n",
            " |-- Close: double (nullable = true)\n",
            " |-- Adj Close: double (nullable = true)\n",
            " |-- Volume: string (nullable = true)\n",
            "\n"
          ]
        }
      ]
    },
    {
      "cell_type": "code",
      "source": [
        "df.show()"
      ],
      "metadata": {
        "colab": {
          "base_uri": "https://localhost:8080/"
        },
        "id": "6B4dKiPb-drC",
        "outputId": "31583a9f-010e-4c16-afbd-6ae4ff5c3400"
      },
      "execution_count": 10,
      "outputs": [
        {
          "output_type": "stream",
          "name": "stdout",
          "text": [
            "+----------+---------+---------+---------+---------+---------+--------+\n",
            "|      Date|     Open|     High|      Low|    Close|Adj Close|  Volume|\n",
            "+----------+---------+---------+---------+---------+---------+--------+\n",
            "|2016-01-20|61.799999|62.330002|60.200001|    60.84|53.990601|17369100|\n",
            "|2016-01-21|    60.98|62.790001|    60.91|61.880001|54.913509|12089200|\n",
            "|2016-01-22|62.439999|63.259998|62.130001|62.689999|55.632324| 9197500|\n",
            "|2016-01-25|62.779999|    63.82|62.549999|63.450001|56.306763|12823400|\n",
            "|2016-01-26|63.360001|64.470001|63.259998|     64.0|56.794834| 9441200|\n",
            "|2016-01-27|64.099998|    65.18|63.889999|63.950001|56.750477|10214300|\n",
            "|2016-01-28|64.029999|64.510002|    63.43|64.220001| 56.99007|11278300|\n",
            "|2016-01-29|    64.75|66.529999|64.739998|66.360001|58.889149|16439100|\n",
            "|2016-02-01|65.910004|    67.93|65.889999|     67.5| 59.90081|14728400|\n",
            "|2016-02-02|67.300003|67.839996|66.279999|66.860001|59.332867|13585900|\n",
            "|2016-02-03|67.309998|     67.5|    65.07|66.269997| 58.80928|12315600|\n",
            "|2016-02-04|65.760002|66.550003|65.010002|66.419998| 58.94239|12833400|\n",
            "|2016-02-05|66.860001|67.529999|65.879997|     67.0|  59.4571|14196500|\n",
            "|2016-02-08|     66.5|67.150002|65.160004|66.900002|59.368362|20743600|\n",
            "|2016-02-09|65.489998|66.410004|    64.68|65.809998|58.401058|14642400|\n",
            "|2016-02-10|66.190002|66.589996|65.650002|65.790001| 58.38332| 9709300|\n",
            "|2016-02-11|65.019997|65.760002|64.779999|    65.32|57.966228|11186700|\n",
            "|2016-02-12|65.519997|    66.25|64.870003|    66.18|58.729424| 9695500|\n",
            "|2016-02-16|66.610001|66.800003|     65.5|65.900002|58.480934|11360500|\n",
            "|2016-02-17|66.099998|66.610001|65.809998|66.110001|58.667301|12426700|\n",
            "+----------+---------+---------+---------+---------+---------+--------+\n",
            "only showing top 20 rows\n",
            "\n"
          ]
        }
      ]
    },
    {
      "cell_type": "code",
      "source": [
        "df.describe().show()"
      ],
      "metadata": {
        "colab": {
          "base_uri": "https://localhost:8080/"
        },
        "id": "_n_c_ztw-gyM",
        "outputId": "2a77c801-524d-48e1-ad3c-d36c440c5115"
      },
      "execution_count": 11,
      "outputs": [
        {
          "output_type": "stream",
          "name": "stdout",
          "text": [
            "+-------+-----------------+------------------+------------------+-----------------+------------------+-----------------+\n",
            "|summary|             Open|              High|               Low|            Close|         Adj Close|           Volume|\n",
            "+-------+-----------------+------------------+------------------+-----------------+------------------+-----------------+\n",
            "|  count|             2518|              2518|              2518|             2518|              2518|             2518|\n",
            "|   mean|96.50830017156473| 97.33101670611606| 95.74480543367737|  96.548617969023| 92.42759966243037|8509442.510925705|\n",
            "| stddev|23.32285199736492|23.585851735628015|23.015135524430754|23.28824146387443|25.330248130379083|4760469.149170408|\n",
            "|    min|            60.98|         62.330002|         60.200001|            60.84|         53.990601|         10010500|\n",
            "|    max|       153.600006|        153.660004|        151.660004|       152.789993|        152.233536|          9999600|\n",
            "+-------+-----------------+------------------+------------------+-----------------+------------------+-----------------+\n",
            "\n"
          ]
        }
      ]
    },
    {
      "cell_type": "code",
      "source": [
        "df.filter('Close < 62').show()"
      ],
      "metadata": {
        "colab": {
          "base_uri": "https://localhost:8080/"
        },
        "id": "V00JlAt8-l2g",
        "outputId": "af377f33-bde9-4da1-e1fb-7e7a13ce6162"
      },
      "execution_count": 12,
      "outputs": [
        {
          "output_type": "stream",
          "name": "stdout",
          "text": [
            "+----------+---------+---------+---------+---------+---------+--------+\n",
            "|      Date|     Open|     High|      Low|    Close|Adj Close|  Volume|\n",
            "+----------+---------+---------+---------+---------+---------+--------+\n",
            "|2016-01-20|61.799999|62.330002|60.200001|    60.84|53.990601|17369100|\n",
            "|2016-01-21|    60.98|62.790001|    60.91|61.880001|54.913509|12089200|\n",
            "|2016-01-20|61.799999|62.330002|60.200001|    60.84|53.990601|17369100|\n",
            "|2016-01-21|    60.98|62.790001|    60.91|61.880001|54.913509|12089200|\n",
            "+----------+---------+---------+---------+---------+---------+--------+\n",
            "\n"
          ]
        }
      ]
    },
    {
      "cell_type": "code",
      "source": [
        "df.filter('Close < 62').select('Open')#.show()"
      ],
      "metadata": {
        "colab": {
          "base_uri": "https://localhost:8080/"
        },
        "id": "6l9b1SrZ-vGO",
        "outputId": "7f2cf889-7281-45d1-8ef0-774b7239da2a"
      },
      "execution_count": 13,
      "outputs": [
        {
          "output_type": "execute_result",
          "data": {
            "text/plain": [
              "DataFrame[Open: double]"
            ]
          },
          "metadata": {},
          "execution_count": 13
        }
      ]
    },
    {
      "cell_type": "code",
      "source": [
        "type(df)"
      ],
      "metadata": {
        "colab": {
          "base_uri": "https://localhost:8080/",
          "height": 186
        },
        "id": "b0hmKwjq-5Il",
        "outputId": "54619880-7a1c-4f8d-ea72-d68ab2224d6b"
      },
      "execution_count": 25,
      "outputs": [
        {
          "output_type": "execute_result",
          "data": {
            "text/plain": [
              "pyspark.sql.dataframe.DataFrame"
            ],
            "text/html": [
              "<div style=\"max-width:800px; border: 1px solid var(--colab-border-color);\"><style>\n",
              "      pre.function-repr-contents {\n",
              "        overflow-x: auto;\n",
              "        padding: 8px 12px;\n",
              "        max-height: 500px;\n",
              "      }\n",
              "\n",
              "      pre.function-repr-contents.function-repr-contents-collapsed {\n",
              "        cursor: pointer;\n",
              "        max-height: 100px;\n",
              "      }\n",
              "    </style>\n",
              "    <pre style=\"white-space: initial; background:\n",
              "         var(--colab-secondary-surface-color); padding: 8px 12px;\n",
              "         border-bottom: 1px solid var(--colab-border-color);\"><b>pyspark.sql.dataframe.DataFrame</b><br/>def __init__(jdf: JavaObject, sql_ctx: Union[&#x27;SQLContext&#x27;, &#x27;SparkSession&#x27;])</pre><pre class=\"function-repr-contents function-repr-contents-collapsed\" style=\"\"><a class=\"filepath\" style=\"display:none\" href=\"#\">/usr/local/lib/python3.11/dist-packages/pyspark/sql/dataframe.py</a>A distributed collection of data grouped into named columns.\n",
              "\n",
              ".. versionadded:: 1.3.0\n",
              "\n",
              ".. versionchanged:: 3.4.0\n",
              "    Supports Spark Connect.\n",
              "\n",
              "Examples\n",
              "--------\n",
              "A :class:`DataFrame` is equivalent to a relational table in Spark SQL,\n",
              "and can be created using various functions in :class:`SparkSession`:\n",
              "\n",
              "&gt;&gt;&gt; people = spark.createDataFrame([\n",
              "...     {&quot;deptId&quot;: 1, &quot;age&quot;: 40, &quot;name&quot;: &quot;Hyukjin Kwon&quot;, &quot;gender&quot;: &quot;M&quot;, &quot;salary&quot;: 50},\n",
              "...     {&quot;deptId&quot;: 1, &quot;age&quot;: 50, &quot;name&quot;: &quot;Takuya Ueshin&quot;, &quot;gender&quot;: &quot;M&quot;, &quot;salary&quot;: 100},\n",
              "...     {&quot;deptId&quot;: 2, &quot;age&quot;: 60, &quot;name&quot;: &quot;Xinrong Meng&quot;, &quot;gender&quot;: &quot;F&quot;, &quot;salary&quot;: 150},\n",
              "...     {&quot;deptId&quot;: 3, &quot;age&quot;: 20, &quot;name&quot;: &quot;Haejoon Lee&quot;, &quot;gender&quot;: &quot;M&quot;, &quot;salary&quot;: 200}\n",
              "... ])\n",
              "\n",
              "Once created, it can be manipulated using the various domain-specific-language\n",
              "(DSL) functions defined in: :class:`DataFrame`, :class:`Column`.\n",
              "\n",
              "To select a column from the :class:`DataFrame`, use the apply method:\n",
              "\n",
              "&gt;&gt;&gt; age_col = people.age\n",
              "\n",
              "A more concrete example:\n",
              "\n",
              "&gt;&gt;&gt; # To create DataFrame using SparkSession\n",
              "... department = spark.createDataFrame([\n",
              "...     {&quot;id&quot;: 1, &quot;name&quot;: &quot;PySpark&quot;},\n",
              "...     {&quot;id&quot;: 2, &quot;name&quot;: &quot;ML&quot;},\n",
              "...     {&quot;id&quot;: 3, &quot;name&quot;: &quot;Spark SQL&quot;}\n",
              "... ])\n",
              "\n",
              "&gt;&gt;&gt; people.filter(people.age &gt; 30).join(\n",
              "...     department, people.deptId == department.id).groupBy(\n",
              "...     department.name, &quot;gender&quot;).agg({&quot;salary&quot;: &quot;avg&quot;, &quot;age&quot;: &quot;max&quot;}).show()\n",
              "+-------+------+-----------+--------+\n",
              "|   name|gender|avg(salary)|max(age)|\n",
              "+-------+------+-----------+--------+\n",
              "|     ML|     F|      150.0|      60|\n",
              "|PySpark|     M|       75.0|      50|\n",
              "+-------+------+-----------+--------+\n",
              "\n",
              "Notes\n",
              "-----\n",
              "A DataFrame should only be created as described above. It should not be directly\n",
              "created via using the constructor.</pre>\n",
              "      <script>\n",
              "      if (google.colab.kernel.accessAllowed && google.colab.files && google.colab.files.view) {\n",
              "        for (const element of document.querySelectorAll('.filepath')) {\n",
              "          element.style.display = 'block'\n",
              "          element.onclick = (event) => {\n",
              "            event.preventDefault();\n",
              "            event.stopPropagation();\n",
              "            google.colab.files.view(element.textContent, 80);\n",
              "          };\n",
              "        }\n",
              "      }\n",
              "      for (const element of document.querySelectorAll('.function-repr-contents')) {\n",
              "        element.onclick = (event) => {\n",
              "          event.preventDefault();\n",
              "          event.stopPropagation();\n",
              "          element.classList.toggle('function-repr-contents-collapsed');\n",
              "        };\n",
              "      }\n",
              "      </script>\n",
              "      </div>"
            ]
          },
          "metadata": {},
          "execution_count": 25
        }
      ]
    },
    {
      "cell_type": "code",
      "source": [
        "rdd_obj = df.rdd"
      ],
      "metadata": {
        "id": "77l-1I7Z_Ii5"
      },
      "execution_count": 30,
      "outputs": []
    },
    {
      "cell_type": "code",
      "source": [
        "rdd_obj.getNumPartitions()"
      ],
      "metadata": {
        "colab": {
          "base_uri": "https://localhost:8080/"
        },
        "id": "DJIM3ced_Tv5",
        "outputId": "919aeb80-53de-48f2-c807-eac22f221378"
      },
      "execution_count": 31,
      "outputs": [
        {
          "output_type": "execute_result",
          "data": {
            "text/plain": [
              "1"
            ]
          },
          "metadata": {},
          "execution_count": 31
        }
      ]
    },
    {
      "cell_type": "code",
      "source": [
        "new_rdd = rdd_obj.repartition(4)\n",
        "\n",
        "new_rdd.getNumPartitions()"
      ],
      "metadata": {
        "colab": {
          "base_uri": "https://localhost:8080/"
        },
        "id": "u4Ba1fHb_YWh",
        "outputId": "4f432139-dfbc-4856-b946-a9a7517af7d0"
      },
      "execution_count": 31,
      "outputs": [
        {
          "output_type": "execute_result",
          "data": {
            "text/plain": [
              "4"
            ]
          },
          "metadata": {},
          "execution_count": 31
        }
      ]
    },
    {
      "cell_type": "code",
      "source": [
        "numbers = list(range(100))"
      ],
      "metadata": {
        "id": "qqK9EwSa_j8X"
      },
      "execution_count": 25,
      "outputs": []
    },
    {
      "cell_type": "code",
      "source": [
        "%time\n",
        "res=filter(lambda i: i % 2,numbers)"
      ],
      "metadata": {
        "colab": {
          "base_uri": "https://localhost:8080/"
        },
        "id": "vGpVelBD_wZZ",
        "outputId": "24e08a0e-41d1-41ea-f3a7-4277809fc122"
      },
      "execution_count": 26,
      "outputs": [
        {
          "output_type": "stream",
          "name": "stdout",
          "text": [
            "CPU times: user 23 µs, sys: 0 ns, total: 23 µs\n",
            "Wall time: 27.9 µs\n"
          ]
        }
      ]
    },
    {
      "cell_type": "code",
      "source": [
        "from pyspark import SparkContext\n",
        "sc = SparkContext.getOrCreate()"
      ],
      "metadata": {
        "id": "-UzbwEbl_5sc"
      },
      "execution_count": 27,
      "outputs": []
    },
    {
      "cell_type": "code",
      "source": [
        "RDD_example = sc.parallelize(numbers)\n"
      ],
      "metadata": {
        "id": "yAC0ihfO_yq5"
      },
      "execution_count": 28,
      "outputs": []
    },
    {
      "cell_type": "code",
      "source": [
        "RDD_example.getNumPartitions()"
      ],
      "metadata": {
        "colab": {
          "base_uri": "https://localhost:8080/"
        },
        "id": "J2dIj5af_2Lk",
        "outputId": "a7e39f5d-7beb-4929-bc94-9f2d03074f72"
      },
      "execution_count": 29,
      "outputs": [
        {
          "output_type": "execute_result",
          "data": {
            "text/plain": [
              "2"
            ]
          },
          "metadata": {},
          "execution_count": 29
        }
      ]
    },
    {
      "cell_type": "code",
      "source": [
        "%time\n",
        "o = RDD_example.filter(lambda i: i % 2)"
      ],
      "metadata": {
        "colab": {
          "base_uri": "https://localhost:8080/"
        },
        "id": "A0aoYh1w__Nc",
        "outputId": "f4e86630-61fd-4d09-8145-750f92172ee4"
      },
      "execution_count": 22,
      "outputs": [
        {
          "output_type": "stream",
          "name": "stdout",
          "text": [
            "CPU times: user 2 µs, sys: 1 µs, total: 3 µs\n",
            "Wall time: 5.01 µs\n"
          ]
        }
      ]
    },
    {
      "cell_type": "code",
      "source": [],
      "metadata": {
        "id": "6fPfuZwNADe5"
      },
      "execution_count": null,
      "outputs": []
    }
  ]
}